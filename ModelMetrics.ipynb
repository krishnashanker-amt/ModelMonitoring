{
 "cells": [
  {
   "cell_type": "markdown",
   "metadata": {},
   "source": [
    "# Data Monitoring Automation\n",
    "\n",
    "This notebook documents the code and progress as I work my way towards setting up an automated process to monitor the performance of the fraud model(s), across partners and products. "
   ]
  },
  {
   "cell_type": "code",
   "execution_count": 1,
   "metadata": {},
   "outputs": [],
   "source": [
    "# Library Imports\n",
    "\n",
    "import pandas as pd\n",
    "import numpy as np\n",
    "import trellis\n",
    "import os\n",
    "from avant_python_utils.email import send_email\n",
    "from datalaketools.connectors.presto_db import PrestoDB\n",
    "presto = PrestoDB()\n",
    "import matplotlib.pyplot as plt\n",
    "from sklearn import metrics\n",
    "from sklearn.metrics import roc_auc_score\n",
    "from sklearn.metrics import roc_curve, f1_score,recall_score,precision_score, average_precision_score\n",
    "###"
   ]
  },
  {
   "cell_type": "markdown",
   "metadata": {},
   "source": [
    "## Base Data Creation"
   ]
  },
  {
   "cell_type": "code",
   "execution_count": 2,
   "metadata": {},
   "outputs": [],
   "source": [
    "#trellis.start()\n",
    "# fraud = trellis.connect('us_fraud_follower')\n",
    "#parent_dir_path = os.path.dirname(os.path.abspath(__file__)) - REMOVE COMMENT IN PYTHON SCRIPT\n",
    "parent_dir_path = os.getcwd()\n",
    "subject = 'Avant Model Monitor Weekly Report (Data Only)'\n",
    "credentials = {'username': trellis.keys('automate_email')['email'], 'password': trellis.keys('automate_email')['pw']}\n"
   ]
  },
  {
   "cell_type": "code",
   "execution_count": 3,
   "metadata": {},
   "outputs": [],
   "source": [
    "#SQL query parameters\n",
    "loan_window = 'week'"
   ]
  },
  {
   "cell_type": "markdown",
   "metadata": {},
   "source": [
    "Query to obtain data at a loan ID level. "
   ]
  },
  {
   "cell_type": "code",
   "execution_count": 4,
   "metadata": {},
   "outputs": [],
   "source": [
    "df_raw = presto.execute_df('''\n",
    "SELECT\n",
    "  l.id as loan_id\n",
    ", l.loan_processing_start_time\n",
    ", date_trunc('{LOAN_WINDOW}', l.loan_processing_start_time) as entered_lp_week\n",
    ", l.status\n",
    ", case when l.status in ('current','late','paid_off','charged_off') then 1 else 0 end as issued\n",
    ", case when c.high_confidence_fraud_indicator=true or cfl.id is not null then 1 else 0 end as high_confidence_fraud_indicator\n",
    ", cast(fd.score_4 as double) as score_4\n",
    ", cast(fd.score_5 as double) as score_5\n",
    ", coalesce(cast(fd.score_5 as double), cast(fd.score_4 as double)) as hard_score\n",
    ", l.state\n",
    ", l.payment_method\n",
    ", l.loan_amount\n",
    ", ca.product_type\n",
    ", vrdt.risk_summary_identity_high\n",
    ", vrdt.risk_summary_identity_medium\n",
    ", vrdt.risk_summary_identity_low\n",
    "FROM avant.dw.customer_applications ca\n",
    "LEFT JOIN avant.dw.loans l on l.customer_application_id = ca.id\n",
    "JOIN avant.dw.customers c\n",
    "  ON c.id = l.customer_id\n",
    "  \n",
    "  -- getting fraud scores\n",
    "LEFT JOIN (\n",
    "  SELECT\n",
    "    l.id as loan_id\n",
    "  , json_extract_scalar(fd.model_scores, '$[\"fraud/en-US/4.1.0\"][\"score\"]') as score_4\n",
    "  , json_extract_scalar(fd.model_scores, '$[\"fraud/en-US/5.0.0\"][\"score\"]') as score_5\n",
    "  , fd.id as fraud_decision_id\n",
    "  , row_number() over (partition by l.id order by fd.created_at desc) as row_num\n",
    "  FROM avant.dw.loans l\n",
    "  JOIN avant.avant_basic.fraud_decisions fd\n",
    "    ON fd.customer_application_id = l.customer_application_id\n",
    "    AND fd.created_at AT TIME ZONE 'America/Chicago' >= l.loan_processing_start_time\n",
    "WHERE l.loan_processing_start_time > date '2019-06-30'\n",
    ") fd \n",
    "  ON fd.loan_id = l.id \n",
    "  AND fd.row_num=1\n",
    "  -- getting fraud indicator\n",
    "LEFT JOIN avant.avant_basic.confirmed_fraud_logs cfl \n",
    "  ON cfl.customer_id = c.id\n",
    "  \n",
    "    -- filtering for valid loans to evaluate performance on\n",
    "  -- JOIN avant.dw.loan_performance_by_installment lp \n",
    "  -- ON lp.loan_id = l.id \n",
    "  -- AND lp.installment_number = 1\n",
    "  -- AND lp.installment_date <= date_add('day', -64, current_timestamp)\n",
    "\n",
    "  \n",
    "  -- adding identity tier a loan was assigned to and fraud_review flag\n",
    "  LEFT JOIN avant.dw_temp_newver.verifications_risks_decisions_test vrdt\n",
    "  on ca.id = vrdt.customer_application_id and vrdt.row_num_recent = 1\n",
    "WHERE l.loan_processing_start_time > date '2019-06-30'\n",
    "'''.format(LOAN_WINDOW = loan_window))\n"
   ]
  },
  {
   "cell_type": "code",
   "execution_count": 5,
   "metadata": {},
   "outputs": [],
   "source": [
    "#Remove records with no fraud score\n",
    "df = df_raw[df_raw.score_5.notnull()]"
   ]
  },
  {
   "cell_type": "code",
   "execution_count": 6,
   "metadata": {},
   "outputs": [
    {
     "name": "stderr",
     "output_type": "stream",
     "text": [
      "/home/jovyan/.conda-envs/gkrishna_env/lib/python3.6/site-packages/ipykernel_launcher.py:1: SettingWithCopyWarning: \n",
      "A value is trying to be set on a copy of a slice from a DataFrame.\n",
      "Try using .loc[row_indexer,col_indexer] = value instead\n",
      "\n",
      "See the caveats in the documentation: https://pandas.pydata.org/pandas-docs/stable/user_guide/indexing.html#returning-a-view-versus-a-copy\n",
      "  \"\"\"Entry point for launching an IPython kernel.\n"
     ]
    }
   ],
   "source": [
    "df['prediction'] = np.where(df['score_5'] > 0.05, 1, 0)\n",
    "#df['prediction'] = [1 if x > 0.05 else 0 for x in df['score_5']]\n",
    "#df['prediction'] = list(np.where(df['score_5'] > 0.05, 1, 0)) \n",
    "# All three solutions raise the settingwithcopywarining"
   ]
  },
  {
   "cell_type": "markdown",
   "metadata": {},
   "source": [
    "## Connecting to Google Sheets"
   ]
  },
  {
   "cell_type": "code",
   "execution_count": 6,
   "metadata": {},
   "outputs": [],
   "source": [
    "#Importing the module\n",
    "import gspread\n",
    "from df2gspread import df2gspread as d2g\n",
    "from oauth2client.service_account import ServiceAccountCredentials"
   ]
  },
  {
   "cell_type": "code",
   "execution_count": 7,
   "metadata": {},
   "outputs": [],
   "source": [
    "#The scope is always look like this so we did not need to change anything\n",
    "scope = [\n",
    "   'https://spreadsheets.google.com/feeds',\n",
    "         'https://www.googleapis.com/auth/drive']\n",
    "#Name of our Service Account Key\n",
    "google_key_file = 'service_key.json'\n",
    "credentials = ServiceAccountCredentials.from_json_keyfile_name(google_key_file, scope)\n",
    "gc = gspread.authorize(credentials)"
   ]
  },
  {
   "cell_type": "code",
   "execution_count": 8,
   "metadata": {},
   "outputs": [],
   "source": [
    "import seaborn as sns\n",
    "#I would use tips dataset as an example\n",
    "tips = sns.load_dataset('tips')"
   ]
  },
  {
   "cell_type": "code",
   "execution_count": 9,
   "metadata": {},
   "outputs": [
    {
     "data": {
      "text/plain": [
       "<Worksheet 'test_sheet' id:0>"
      ]
     },
     "execution_count": 9,
     "metadata": {},
     "output_type": "execute_result"
    }
   ],
   "source": [
    "#This is the Worksheet ID\n",
    "spreadsheet_key = '14ROlpuOP9IkixM5-nn1Pc0ux6kWgmj7c62NzdDl-5hU'\n",
    "#This is the sheet name\n",
    "wks_name = 'test_sheet'\n",
    "#We upload the tips data to our Google Sheet. Setting the row_names to False if you did not want the index to be included\n",
    "d2g.upload(tips, spreadsheet_key, wks_name, credentials=credentials, row_names=False)"
   ]
  },
  {
   "cell_type": "markdown",
   "metadata": {},
   "source": [
    "## Model Evaluation Pipeline"
   ]
  },
  {
   "cell_type": "code",
   "execution_count": 7,
   "metadata": {},
   "outputs": [
    {
     "data": {
      "text/plain": [
       "3306"
      ]
     },
     "execution_count": 7,
     "metadata": {},
     "output_type": "execute_result"
    }
   ],
   "source": [
    "# Checking fraud stats for QC later on\n",
    "df['high_confidence_fraud_indicator'].sum()"
   ]
  },
  {
   "cell_type": "code",
   "execution_count": 8,
   "metadata": {},
   "outputs": [
    {
     "data": {
      "text/plain": [
       "0.1258504997419173"
      ]
     },
     "execution_count": 8,
     "metadata": {},
     "output_type": "execute_result"
    }
   ],
   "source": [
    "precision_score(y_true = df['high_confidence_fraud_indicator'], y_pred = df['prediction'], pos_label = 1)"
   ]
  },
  {
   "cell_type": "code",
   "execution_count": 9,
   "metadata": {},
   "outputs": [
    {
     "data": {
      "text/plain": [
       "0.8112522686025408"
      ]
     },
     "execution_count": 9,
     "metadata": {},
     "output_type": "execute_result"
    }
   ],
   "source": [
    "recall_score(y_true = df['high_confidence_fraud_indicator'], y_pred = df['prediction'], pos_label = 1)"
   ]
  },
  {
   "cell_type": "code",
   "execution_count": 93,
   "metadata": {},
   "outputs": [
    {
     "data": {
      "text/plain": [
       "0.811195158850227"
      ]
     },
     "execution_count": 93,
     "metadata": {},
     "output_type": "execute_result"
    }
   ],
   "source": [
    "tp = df['high_confidence_fraud_indicator'] * df['prediction']\n",
    "fp = (1-df['high_confidence_fraud_indicator']) * df['prediction']\n",
    "fn =  df['high_confidence_fraud_indicator'] * (1-df['prediction'])\n",
    "#precision\n",
    "tp.sum()/(tp.sum() + fp.sum())\n",
    "#recall\n",
    "tp.sum()/(tp.sum() + fn.sum())"
   ]
  },
  {
   "cell_type": "code",
   "execution_count": 94,
   "metadata": {},
   "outputs": [
    {
     "data": {
      "text/plain": [
       "2681"
      ]
     },
     "execution_count": 94,
     "metadata": {},
     "output_type": "execute_result"
    }
   ],
   "source": [
    "df[(df['score_5'] > 0.05) & (df['high_confidence_fraud_indicator'] == 1)]['loan_id'].count()"
   ]
  },
  {
   "cell_type": "code",
   "execution_count": 28,
   "metadata": {},
   "outputs": [],
   "source": [
    "def evaluator(dframe):\n",
    "    tp = dframe['high_confidence_fraud_indicator'] * dframe['prediction']\n",
    "    fp = (1-dframe['high_confidence_fraud_indicator']) * dframe['prediction']\n",
    "    fn =  dframe['high_confidence_fraud_indicator'] * (1-dframe['prediction'])\n",
    "    \n",
    "    #calculating multiple metrics\n",
    "    precision = tp.sum()/(tp.sum() + fp.sum())\n",
    "    recall = tp.sum()/(tp.sum() + fn.sum())\n",
    "    \n",
    "    \n",
    "    return pd.Series({'precision': precision, 'recall': recall})"
   ]
  },
  {
   "cell_type": "code",
   "execution_count": 29,
   "metadata": {},
   "outputs": [],
   "source": [
    "test = df.groupby('entered_lp_week').apply(evaluator)"
   ]
  },
  {
   "cell_type": "code",
   "execution_count": 61,
   "metadata": {},
   "outputs": [],
   "source": [
    "test = df.groupby('entered_lp_week').sum(['high_confidence_fraud_indicator'])"
   ]
  },
  {
   "cell_type": "code",
   "execution_count": 30,
   "metadata": {},
   "outputs": [
    {
     "data": {
      "text/html": [
       "<div>\n",
       "<style scoped>\n",
       "    .dataframe tbody tr th:only-of-type {\n",
       "        vertical-align: middle;\n",
       "    }\n",
       "\n",
       "    .dataframe tbody tr th {\n",
       "        vertical-align: top;\n",
       "    }\n",
       "\n",
       "    .dataframe thead th {\n",
       "        text-align: right;\n",
       "    }\n",
       "</style>\n",
       "<table border=\"1\" class=\"dataframe\">\n",
       "  <thead>\n",
       "    <tr style=\"text-align: right;\">\n",
       "      <th></th>\n",
       "      <th>precision</th>\n",
       "      <th>recall</th>\n",
       "    </tr>\n",
       "    <tr>\n",
       "      <th>entered_lp_week</th>\n",
       "      <th></th>\n",
       "      <th></th>\n",
       "    </tr>\n",
       "  </thead>\n",
       "  <tbody>\n",
       "    <tr>\n",
       "      <th>2019-06-24 00:00:00.000</th>\n",
       "      <td>0.128205</td>\n",
       "      <td>0.714286</td>\n",
       "    </tr>\n",
       "    <tr>\n",
       "      <th>2019-07-01 00:00:00.000</th>\n",
       "      <td>0.142157</td>\n",
       "      <td>0.816901</td>\n",
       "    </tr>\n",
       "    <tr>\n",
       "      <th>2019-07-08 00:00:00.000</th>\n",
       "      <td>0.147975</td>\n",
       "      <td>0.778689</td>\n",
       "    </tr>\n",
       "    <tr>\n",
       "      <th>2019-07-15 00:00:00.000</th>\n",
       "      <td>0.128165</td>\n",
       "      <td>0.757009</td>\n",
       "    </tr>\n",
       "    <tr>\n",
       "      <th>2019-07-22 00:00:00.000</th>\n",
       "      <td>0.133884</td>\n",
       "      <td>0.778846</td>\n",
       "    </tr>\n",
       "    <tr>\n",
       "      <th>...</th>\n",
       "      <td>...</td>\n",
       "      <td>...</td>\n",
       "    </tr>\n",
       "    <tr>\n",
       "      <th>2020-07-27 00:00:00.000</th>\n",
       "      <td>0.167883</td>\n",
       "      <td>0.920000</td>\n",
       "    </tr>\n",
       "    <tr>\n",
       "      <th>2020-08-03 00:00:00.000</th>\n",
       "      <td>0.170068</td>\n",
       "      <td>0.757576</td>\n",
       "    </tr>\n",
       "    <tr>\n",
       "      <th>2020-08-10 00:00:00.000</th>\n",
       "      <td>0.170886</td>\n",
       "      <td>0.750000</td>\n",
       "    </tr>\n",
       "    <tr>\n",
       "      <th>2020-08-17 00:00:00.000</th>\n",
       "      <td>0.201220</td>\n",
       "      <td>0.846154</td>\n",
       "    </tr>\n",
       "    <tr>\n",
       "      <th>2020-08-24 00:00:00.000</th>\n",
       "      <td>0.280000</td>\n",
       "      <td>1.000000</td>\n",
       "    </tr>\n",
       "  </tbody>\n",
       "</table>\n",
       "<p>62 rows × 2 columns</p>\n",
       "</div>"
      ],
      "text/plain": [
       "                         precision    recall\n",
       "entered_lp_week                             \n",
       "2019-06-24 00:00:00.000   0.128205  0.714286\n",
       "2019-07-01 00:00:00.000   0.142157  0.816901\n",
       "2019-07-08 00:00:00.000   0.147975  0.778689\n",
       "2019-07-15 00:00:00.000   0.128165  0.757009\n",
       "2019-07-22 00:00:00.000   0.133884  0.778846\n",
       "...                            ...       ...\n",
       "2020-07-27 00:00:00.000   0.167883  0.920000\n",
       "2020-08-03 00:00:00.000   0.170068  0.757576\n",
       "2020-08-10 00:00:00.000   0.170886  0.750000\n",
       "2020-08-17 00:00:00.000   0.201220  0.846154\n",
       "2020-08-24 00:00:00.000   0.280000  1.000000\n",
       "\n",
       "[62 rows x 2 columns]"
      ]
     },
     "execution_count": 30,
     "metadata": {},
     "output_type": "execute_result"
    }
   ],
   "source": [
    "test"
   ]
  },
  {
   "cell_type": "code",
   "execution_count": 54,
   "metadata": {},
   "outputs": [],
   "source": [
    "sample = df.query('entered_lp_week == \"2020-03-16 00:00:00.000\"')"
   ]
  },
  {
   "cell_type": "code",
   "execution_count": 55,
   "metadata": {},
   "outputs": [
    {
     "data": {
      "text/html": [
       "<div>\n",
       "<style scoped>\n",
       "    .dataframe tbody tr th:only-of-type {\n",
       "        vertical-align: middle;\n",
       "    }\n",
       "\n",
       "    .dataframe tbody tr th {\n",
       "        vertical-align: top;\n",
       "    }\n",
       "\n",
       "    .dataframe thead th {\n",
       "        text-align: right;\n",
       "    }\n",
       "</style>\n",
       "<table border=\"1\" class=\"dataframe\">\n",
       "  <thead>\n",
       "    <tr style=\"text-align: right;\">\n",
       "      <th></th>\n",
       "      <th>loan_id</th>\n",
       "      <th>loan_processing_start_time</th>\n",
       "      <th>entered_lp_week</th>\n",
       "      <th>status</th>\n",
       "      <th>issued</th>\n",
       "      <th>high_confidence_fraud_indicator</th>\n",
       "      <th>score_4</th>\n",
       "      <th>score_5</th>\n",
       "      <th>hard_score</th>\n",
       "      <th>state</th>\n",
       "      <th>payment_method</th>\n",
       "      <th>loan_amount</th>\n",
       "      <th>product_type</th>\n",
       "      <th>risk_summary_identity_high</th>\n",
       "      <th>risk_summary_identity_medium</th>\n",
       "      <th>risk_summary_identity_low</th>\n",
       "      <th>prediction</th>\n",
       "    </tr>\n",
       "  </thead>\n",
       "  <tbody>\n",
       "    <tr>\n",
       "      <th>4</th>\n",
       "      <td>3923223</td>\n",
       "      <td>2020-03-19 18:00:27.856</td>\n",
       "      <td>2020-03-16 00:00:00.000</td>\n",
       "      <td>late</td>\n",
       "      <td>1</td>\n",
       "      <td>0</td>\n",
       "      <td>NaN</td>\n",
       "      <td>0.003550</td>\n",
       "      <td>0.003550</td>\n",
       "      <td>VA</td>\n",
       "      <td>ach</td>\n",
       "      <td>12000.00</td>\n",
       "      <td>installment</td>\n",
       "      <td>False</td>\n",
       "      <td>False</td>\n",
       "      <td>True</td>\n",
       "      <td>0</td>\n",
       "    </tr>\n",
       "    <tr>\n",
       "      <th>60</th>\n",
       "      <td>3925773</td>\n",
       "      <td>2020-03-22 21:55:30.873</td>\n",
       "      <td>2020-03-16 00:00:00.000</td>\n",
       "      <td>current</td>\n",
       "      <td>1</td>\n",
       "      <td>0</td>\n",
       "      <td>0.158139</td>\n",
       "      <td>0.006922</td>\n",
       "      <td>0.006922</td>\n",
       "      <td>MI</td>\n",
       "      <td>ach</td>\n",
       "      <td>8888.53</td>\n",
       "      <td>refinance</td>\n",
       "      <td>False</td>\n",
       "      <td>False</td>\n",
       "      <td>True</td>\n",
       "      <td>0</td>\n",
       "    </tr>\n",
       "    <tr>\n",
       "      <th>63</th>\n",
       "      <td>3921996</td>\n",
       "      <td>2020-03-18 10:29:05.546</td>\n",
       "      <td>2020-03-16 00:00:00.000</td>\n",
       "      <td>current</td>\n",
       "      <td>1</td>\n",
       "      <td>0</td>\n",
       "      <td>0.089295</td>\n",
       "      <td>0.005521</td>\n",
       "      <td>0.005521</td>\n",
       "      <td>IL</td>\n",
       "      <td>ach</td>\n",
       "      <td>4800.00</td>\n",
       "      <td>installment</td>\n",
       "      <td>False</td>\n",
       "      <td>False</td>\n",
       "      <td>True</td>\n",
       "      <td>0</td>\n",
       "    </tr>\n",
       "    <tr>\n",
       "      <th>136</th>\n",
       "      <td>3913381</td>\n",
       "      <td>2020-03-16 18:24:58.865</td>\n",
       "      <td>2020-03-16 00:00:00.000</td>\n",
       "      <td>current</td>\n",
       "      <td>1</td>\n",
       "      <td>0</td>\n",
       "      <td>0.258932</td>\n",
       "      <td>0.006109</td>\n",
       "      <td>0.006109</td>\n",
       "      <td>GA</td>\n",
       "      <td>paper_check</td>\n",
       "      <td>4200.00</td>\n",
       "      <td>installment</td>\n",
       "      <td>False</td>\n",
       "      <td>False</td>\n",
       "      <td>True</td>\n",
       "      <td>0</td>\n",
       "    </tr>\n",
       "    <tr>\n",
       "      <th>234</th>\n",
       "      <td>3922308</td>\n",
       "      <td>2020-03-20 09:49:43.901</td>\n",
       "      <td>2020-03-16 00:00:00.000</td>\n",
       "      <td>current</td>\n",
       "      <td>1</td>\n",
       "      <td>0</td>\n",
       "      <td>NaN</td>\n",
       "      <td>0.008517</td>\n",
       "      <td>0.008517</td>\n",
       "      <td>ME</td>\n",
       "      <td>ach</td>\n",
       "      <td>17700.00</td>\n",
       "      <td>installment</td>\n",
       "      <td>False</td>\n",
       "      <td>False</td>\n",
       "      <td>True</td>\n",
       "      <td>0</td>\n",
       "    </tr>\n",
       "    <tr>\n",
       "      <th>...</th>\n",
       "      <td>...</td>\n",
       "      <td>...</td>\n",
       "      <td>...</td>\n",
       "      <td>...</td>\n",
       "      <td>...</td>\n",
       "      <td>...</td>\n",
       "      <td>...</td>\n",
       "      <td>...</td>\n",
       "      <td>...</td>\n",
       "      <td>...</td>\n",
       "      <td>...</td>\n",
       "      <td>...</td>\n",
       "      <td>...</td>\n",
       "      <td>...</td>\n",
       "      <td>...</td>\n",
       "      <td>...</td>\n",
       "      <td>...</td>\n",
       "    </tr>\n",
       "    <tr>\n",
       "      <th>126567</th>\n",
       "      <td>3923621</td>\n",
       "      <td>2020-03-20 10:41:05.948</td>\n",
       "      <td>2020-03-16 00:00:00.000</td>\n",
       "      <td>current</td>\n",
       "      <td>1</td>\n",
       "      <td>0</td>\n",
       "      <td>NaN</td>\n",
       "      <td>0.005851</td>\n",
       "      <td>0.005851</td>\n",
       "      <td>AL</td>\n",
       "      <td>ach</td>\n",
       "      <td>2100.00</td>\n",
       "      <td>installment</td>\n",
       "      <td>False</td>\n",
       "      <td>False</td>\n",
       "      <td>True</td>\n",
       "      <td>0</td>\n",
       "    </tr>\n",
       "    <tr>\n",
       "      <th>126584</th>\n",
       "      <td>3921689</td>\n",
       "      <td>2020-03-17 20:25:58.463</td>\n",
       "      <td>2020-03-16 00:00:00.000</td>\n",
       "      <td>current</td>\n",
       "      <td>1</td>\n",
       "      <td>0</td>\n",
       "      <td>NaN</td>\n",
       "      <td>0.013702</td>\n",
       "      <td>0.013702</td>\n",
       "      <td>MA</td>\n",
       "      <td>ach</td>\n",
       "      <td>6400.00</td>\n",
       "      <td>installment</td>\n",
       "      <td>True</td>\n",
       "      <td>False</td>\n",
       "      <td>False</td>\n",
       "      <td>0</td>\n",
       "    </tr>\n",
       "    <tr>\n",
       "      <th>126686</th>\n",
       "      <td>3924699</td>\n",
       "      <td>2020-03-21 11:13:12.370</td>\n",
       "      <td>2020-03-16 00:00:00.000</td>\n",
       "      <td>current</td>\n",
       "      <td>1</td>\n",
       "      <td>0</td>\n",
       "      <td>0.055026</td>\n",
       "      <td>0.004126</td>\n",
       "      <td>0.004126</td>\n",
       "      <td>FL</td>\n",
       "      <td>ach</td>\n",
       "      <td>9373.90</td>\n",
       "      <td>refinance</td>\n",
       "      <td>False</td>\n",
       "      <td>False</td>\n",
       "      <td>True</td>\n",
       "      <td>0</td>\n",
       "    </tr>\n",
       "    <tr>\n",
       "      <th>126760</th>\n",
       "      <td>3922831</td>\n",
       "      <td>2020-03-19 10:21:49.812</td>\n",
       "      <td>2020-03-16 00:00:00.000</td>\n",
       "      <td>current</td>\n",
       "      <td>1</td>\n",
       "      <td>0</td>\n",
       "      <td>NaN</td>\n",
       "      <td>0.006104</td>\n",
       "      <td>0.006104</td>\n",
       "      <td>OH</td>\n",
       "      <td>ach</td>\n",
       "      <td>5300.00</td>\n",
       "      <td>installment</td>\n",
       "      <td>False</td>\n",
       "      <td>False</td>\n",
       "      <td>True</td>\n",
       "      <td>0</td>\n",
       "    </tr>\n",
       "    <tr>\n",
       "      <th>126766</th>\n",
       "      <td>3923498</td>\n",
       "      <td>2020-03-20 07:47:52.892</td>\n",
       "      <td>2020-03-16 00:00:00.000</td>\n",
       "      <td>current</td>\n",
       "      <td>1</td>\n",
       "      <td>0</td>\n",
       "      <td>NaN</td>\n",
       "      <td>0.004420</td>\n",
       "      <td>0.004420</td>\n",
       "      <td>PA</td>\n",
       "      <td>ach</td>\n",
       "      <td>8400.00</td>\n",
       "      <td>installment</td>\n",
       "      <td>False</td>\n",
       "      <td>False</td>\n",
       "      <td>True</td>\n",
       "      <td>0</td>\n",
       "    </tr>\n",
       "  </tbody>\n",
       "</table>\n",
       "<p>1961 rows × 17 columns</p>\n",
       "</div>"
      ],
      "text/plain": [
       "        loan_id loan_processing_start_time          entered_lp_week   status  \\\n",
       "4       3923223    2020-03-19 18:00:27.856  2020-03-16 00:00:00.000     late   \n",
       "60      3925773    2020-03-22 21:55:30.873  2020-03-16 00:00:00.000  current   \n",
       "63      3921996    2020-03-18 10:29:05.546  2020-03-16 00:00:00.000  current   \n",
       "136     3913381    2020-03-16 18:24:58.865  2020-03-16 00:00:00.000  current   \n",
       "234     3922308    2020-03-20 09:49:43.901  2020-03-16 00:00:00.000  current   \n",
       "...         ...                        ...                      ...      ...   \n",
       "126567  3923621    2020-03-20 10:41:05.948  2020-03-16 00:00:00.000  current   \n",
       "126584  3921689    2020-03-17 20:25:58.463  2020-03-16 00:00:00.000  current   \n",
       "126686  3924699    2020-03-21 11:13:12.370  2020-03-16 00:00:00.000  current   \n",
       "126760  3922831    2020-03-19 10:21:49.812  2020-03-16 00:00:00.000  current   \n",
       "126766  3923498    2020-03-20 07:47:52.892  2020-03-16 00:00:00.000  current   \n",
       "\n",
       "        issued  high_confidence_fraud_indicator   score_4   score_5  \\\n",
       "4            1                                0       NaN  0.003550   \n",
       "60           1                                0  0.158139  0.006922   \n",
       "63           1                                0  0.089295  0.005521   \n",
       "136          1                                0  0.258932  0.006109   \n",
       "234          1                                0       NaN  0.008517   \n",
       "...        ...                              ...       ...       ...   \n",
       "126567       1                                0       NaN  0.005851   \n",
       "126584       1                                0       NaN  0.013702   \n",
       "126686       1                                0  0.055026  0.004126   \n",
       "126760       1                                0       NaN  0.006104   \n",
       "126766       1                                0       NaN  0.004420   \n",
       "\n",
       "        hard_score state payment_method  loan_amount product_type  \\\n",
       "4         0.003550    VA            ach     12000.00  installment   \n",
       "60        0.006922    MI            ach      8888.53    refinance   \n",
       "63        0.005521    IL            ach      4800.00  installment   \n",
       "136       0.006109    GA    paper_check      4200.00  installment   \n",
       "234       0.008517    ME            ach     17700.00  installment   \n",
       "...            ...   ...            ...          ...          ...   \n",
       "126567    0.005851    AL            ach      2100.00  installment   \n",
       "126584    0.013702    MA            ach      6400.00  installment   \n",
       "126686    0.004126    FL            ach      9373.90    refinance   \n",
       "126760    0.006104    OH            ach      5300.00  installment   \n",
       "126766    0.004420    PA            ach      8400.00  installment   \n",
       "\n",
       "        risk_summary_identity_high  risk_summary_identity_medium  \\\n",
       "4                            False                         False   \n",
       "60                           False                         False   \n",
       "63                           False                         False   \n",
       "136                          False                         False   \n",
       "234                          False                         False   \n",
       "...                            ...                           ...   \n",
       "126567                       False                         False   \n",
       "126584                        True                         False   \n",
       "126686                       False                         False   \n",
       "126760                       False                         False   \n",
       "126766                       False                         False   \n",
       "\n",
       "        risk_summary_identity_low  prediction  \n",
       "4                            True           0  \n",
       "60                           True           0  \n",
       "63                           True           0  \n",
       "136                          True           0  \n",
       "234                          True           0  \n",
       "...                           ...         ...  \n",
       "126567                       True           0  \n",
       "126584                      False           0  \n",
       "126686                       True           0  \n",
       "126760                       True           0  \n",
       "126766                       True           0  \n",
       "\n",
       "[1961 rows x 17 columns]"
      ]
     },
     "execution_count": 55,
     "metadata": {},
     "output_type": "execute_result"
    }
   ],
   "source": [
    "sample"
   ]
  },
  {
   "cell_type": "code",
   "execution_count": 56,
   "metadata": {},
   "outputs": [
    {
     "data": {
      "text/plain": [
       "1.0"
      ]
     },
     "execution_count": 56,
     "metadata": {},
     "output_type": "execute_result"
    }
   ],
   "source": [
    "df = sample\n",
    "tp = df['high_confidence_fraud_indicator'] * df['prediction']\n",
    "fp = (1-df['high_confidence_fraud_indicator']) * df['prediction']\n",
    "fn =  df['high_confidence_fraud_indicator'] * (1-df['prediction'])\n",
    "#precision\n",
    "tp.sum()/(tp.sum() + fp.sum())\n",
    "#recall\n",
    "tp.sum()/(tp.sum() + fn.sum())"
   ]
  },
  {
   "cell_type": "code",
   "execution_count": 57,
   "metadata": {},
   "outputs": [
    {
     "data": {
      "text/plain": [
       "1"
      ]
     },
     "execution_count": 57,
     "metadata": {},
     "output_type": "execute_result"
    }
   ],
   "source": [
    "df['high_confidence_fraud_indicator'].sum()"
   ]
  },
  {
   "cell_type": "code",
   "execution_count": 84,
   "metadata": {},
   "outputs": [],
   "source": [
    "loan_window = 'week'\n",
    "df_raw = presto.execute_df('''\n",
    "SELECT\n",
    "  l.id as loan_id\n",
    ", l.loan_processing_start_time\n",
    ", date_trunc('{LOAN_WINDOW}', l.loan_processing_start_time) as entered_lp\n",
    ", l.status\n",
    ", case when l.status in ('current','late','paid_off','charged_off') then 1 else 0 end as issued\n",
    ", case when c.high_confidence_fraud_indicator=true or cfl.id is not null then 1 else 0 end as high_confidence_fraud_indicator\n",
    ", cast(fd.score_4 as double) as score_4\n",
    ", cast(fd.score_5 as double) as score_5\n",
    ", coalesce(cast(fd.score_5 as double), cast(fd.score_4 as double)) as hard_score\n",
    ", l.state\n",
    ", l.payment_method\n",
    ", ca.product_type\n",
    "FROM avant.dw.customer_applications ca\n",
    "LEFT JOIN avant.dw.loans l on l.customer_application_id = ca.id\n",
    "JOIN avant.dw.customers c\n",
    "  ON c.id = l.customer_id\n",
    "LEFT JOIN (\n",
    "  SELECT\n",
    "    l.id as loan_id\n",
    "  , json_extract_scalar(fd.model_scores, '$[\"fraud/en-US/4.1.0\"][\"score\"]') as score_4\n",
    "  , json_extract_scalar(fd.model_scores, '$[\"fraud/en-US/5.0.0\"][\"score\"]') as score_5\n",
    "  , fd.id as fraud_decision_id\n",
    "  , row_number() over (partition by l.id order by fd.created_at desc) as row_num\n",
    "  FROM avant.dw.loans l\n",
    "  JOIN avant.avant_basic.fraud_decisions fd\n",
    "    ON fd.customer_application_id = l.customer_application_id\n",
    "    AND fd.created_at AT TIME ZONE 'America/Chicago' >= l.loan_processing_start_time\n",
    "WHERE l.loan_processing_start_time BETWEEN date_add('week', -53, current_timestamp) AND date_trunc('week',current_timestamp) \n",
    ") fd \n",
    "  ON fd.loan_id = l.id \n",
    "  AND fd.row_num=1\n",
    "LEFT JOIN avant.avant_basic.confirmed_fraud_logs cfl \n",
    "  ON cfl.customer_id = c.id\n",
    "WHERE l.loan_processing_start_time BETWEEN date_add('week', -53, current_timestamp) AND date_trunc('week',current_timestamp)  \n",
    "'''.format(LOAN_WINDOW = loan_window))\n",
    "\n",
    "df_perf_raw = presto.execute_df('''\n",
    "SELECT\n",
    "  l.id as loan_id\n",
    ", case when lp.first_delinquency_30_installment_number = 1 then 1 else 0 end as first_30\n",
    ", case when lp.first_delinquency_60_installment_number = 1 then 1 else 0 end as first_60\n",
    ", case when lp.first_delinquency_120_installment_number = 1 then 1 else 0 end as first_120\n",
    ", lp_3.balance_30 as lp3_balance_30\n",
    ", lp_6.balance_30 as lp6_balance_30\n",
    ", case when lp_3.loan_id is null then null else (case when lp_3.balance_30 > 10 then 1 else 0 end) end as third_30\n",
    ", case when lp_3.loan_id is null then null else (case when lp_3.balance_60 > 10 then 1 else 0 end) end as third_60\n",
    ", case when lp_6.loan_id is null then null else (case when lp_6.balance_30 > 10 then 1 else 0 end) end as sixth_30\n",
    ", case when lp_6.loan_id is null then null else (case when lp_6.balance_60 > 10 then 1 else 0 end) end as sixth_60\n",
    ", lp.first_delinquency_30_installment_number\n",
    ", lp.first_delinquency_60_installment_number\n",
    ", lp.first_delinquency_120_installment_number\n",
    ", l.loan_amount\n",
    ", l.loan_processing_start_time\n",
    ", date_trunc('month', l.loan_processing_start_time) as issued_month\n",
    "FROM avant.dw.loans l\n",
    "JOIN avant.dw.loan_performance_by_installment lp \n",
    "  ON lp.loan_id = l.id \n",
    "  AND lp.installment_number = 1\n",
    "LEFT JOIN avant.dw.loan_performance_by_installment lp_3 \n",
    "  ON lp_3.loan_id = l.id \n",
    "  AND lp_3.installment_number = 3 \n",
    "  AND lp_3.installment_date <= date_add('day', -64, current_timestamp)\n",
    "LEFT JOIN avant.dw.loan_performance_by_installment lp_6 \n",
    "  ON lp_6.loan_id = l.id \n",
    "  AND lp_6.installment_number = 6 \n",
    "  AND lp_6.installment_date <= date_add('day', -64, current_timestamp)\n",
    "WHERE l.loan_processing_start_time BETWEEN date_add('week', -53, current_timestamp) AND date_trunc('week',current_timestamp)  \n",
    "''')\n",
    "\n",
    "\n"
   ]
  },
  {
   "cell_type": "code",
   "execution_count": 86,
   "metadata": {},
   "outputs": [
    {
     "data": {
      "text/plain": [
       "38"
      ]
     },
     "execution_count": 86,
     "metadata": {},
     "output_type": "execute_result"
    }
   ],
   "source": [
    "df['high_confidence_fraud_indicator'].sum()"
   ]
  },
  {
   "cell_type": "code",
   "execution_count": 85,
   "metadata": {},
   "outputs": [],
   "source": [
    "#Merge previous queries\n",
    "df_perf = pd.merge(df_perf_raw, df_raw, how = 'inner', on = 'loan_id')\n",
    "\n",
    "#Remove records with no fraud score\n",
    "df = df_perf[df_perf.score_5.notnull()]"
   ]
  },
  {
   "cell_type": "code",
   "execution_count": null,
   "metadata": {},
   "outputs": [],
   "source": []
  }
 ],
 "metadata": {
  "kernelspec": {
   "display_name": "gkrishna_env",
   "language": "python",
   "name": "gkrishna_env"
  },
  "language_info": {
   "codemirror_mode": {
    "name": "ipython",
    "version": 3
   },
   "file_extension": ".py",
   "mimetype": "text/x-python",
   "name": "python",
   "nbconvert_exporter": "python",
   "pygments_lexer": "ipython3",
   "version": "3.6.11"
  }
 },
 "nbformat": 4,
 "nbformat_minor": 4
}
